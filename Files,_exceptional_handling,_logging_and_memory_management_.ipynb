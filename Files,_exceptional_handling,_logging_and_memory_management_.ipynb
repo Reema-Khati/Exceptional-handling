{
  "nbformat": 4,
  "nbformat_minor": 0,
  "metadata": {
    "colab": {
      "provenance": []
    },
    "kernelspec": {
      "name": "python3",
      "display_name": "Python 3"
    },
    "language_info": {
      "name": "python"
    }
  },
  "cells": [
    {
      "cell_type": "markdown",
      "source": [
        "#Files, exceptional handling, logging and memory management Questions\n",
        "\n",
        "\n",
        "\n",
        "##Theory Questions\n"
      ],
      "metadata": {
        "id": "ACXshv99F2M7"
      }
    },
    {
      "cell_type": "markdown",
      "source": [
        "1. What is the difference between interpreted and compiled languages?\n",
        "   - The primary distinction between compiled and interpreted languages lies in how they execute code:\n",
        "\n",
        "   Compiled Languages: These languages are translated entirely into machine code by a compiler before execution. This process results in a standalone executable file that can run independently of the source code.\n",
        "\n",
        "   Examples: C, C++, Rust, Go.\n",
        "\n",
        "   Interpreted Languages: These languages are executed line-by-line by an interpreter at runtime, translating each instruction into machine code on the fly.\n",
        "\n",
        "   Examples: Python, JavaScript, Ruby.\n",
        "\n",
        "   Some languages, like Java and C#, use a hybrid approach: they are compiled into intermediate bytecode, which is then executed by a virtual machine."
      ],
      "metadata": {
        "id": "YgcYy7ahF_Bx"
      }
    },
    {
      "cell_type": "markdown",
      "source": [
        "2. What is exception handling in Python?\n",
        "   - In Python, exception handling is a mechanism that allows you to manage errors gracefully during program execution. Instead of the program crashing when an error occurs, you can intercept and handle exceptions using specific constructs.\n",
        "\n",
        "   1. Basic Structure\n",
        "\n",
        "     Python uses the try and except blocks to catch and handle exceptions:"
      ],
      "metadata": {
        "id": "7BpdV0OvGoSd"
      }
    },
    {
      "cell_type": "code",
      "source": [
        "try:\n",
        "    # Code that might raise an exception\n",
        "except SomeException:\n",
        "    # Code that runs if the exception occurs\n"
      ],
      "metadata": {
        "id": "6WVbC7vAJFpU"
      },
      "execution_count": null,
      "outputs": []
    },
    {
      "cell_type": "markdown",
      "source": [
        "* Example"
      ],
      "metadata": {
        "id": "jOiV2656JKjw"
      }
    },
    {
      "cell_type": "code",
      "source": [
        "try:\n",
        "    result = 10 / 0\n",
        "except ZeroDivisionError:\n",
        "    print(\"Cannot divide by zero.\")\n"
      ],
      "metadata": {
        "colab": {
          "base_uri": "https://localhost:8080/"
        },
        "id": "bnWERFEZJPZF",
        "outputId": "377e2c46-a51e-4f3b-c25c-938715ebc7eb"
      },
      "execution_count": null,
      "outputs": [
        {
          "output_type": "stream",
          "name": "stdout",
          "text": [
            "Cannot divide by zero.\n"
          ]
        }
      ]
    },
    {
      "cell_type": "markdown",
      "source": [
        "        2. Optional Blocks\n",
        "           \n",
        "\n",
        "* else: Executed if no exceptions are raised in the try block.\n",
        "\n",
        "\n"
      ],
      "metadata": {
        "id": "CQ0S-GA9KHCI"
      }
    },
    {
      "cell_type": "code",
      "source": [
        "  try:\n",
        "      result = 10 / 2\n",
        "  except ZeroDivisionError:\n",
        "      print(\"Cannot divide by zero.\")\n",
        "  else:\n",
        "      print(\"Division successful.\")\n"
      ],
      "metadata": {
        "colab": {
          "base_uri": "https://localhost:8080/"
        },
        "id": "5gw5BS0SLn7W",
        "outputId": "4d06de96-44fb-4813-fa43-6c7d1e1cce10"
      },
      "execution_count": null,
      "outputs": [
        {
          "output_type": "stream",
          "name": "stdout",
          "text": [
            "Division successful.\n"
          ]
        }
      ]
    },
    {
      "cell_type": "markdown",
      "source": [
        "\n",
        "\n",
        "* Finally: Executed regardless of whether an exception occurred or not. Useful for cleanup actions.\n",
        "\n"
      ],
      "metadata": {
        "id": "9ekcDZwvLwE9"
      }
    },
    {
      "cell_type": "code",
      "source": [
        "file = None\n",
        "try:\n",
        "    file = open(\"example.txt\", \"r\")\n",
        "    content = file.read()\n",
        "    print(content)\n",
        "except FileNotFoundError:\n",
        "    print(\"File not found.\")\n",
        "finally:\n",
        "    if file:\n",
        "        file.close()"
      ],
      "metadata": {
        "colab": {
          "base_uri": "https://localhost:8080/"
        },
        "id": "tqF36NuXNGzc",
        "outputId": "a9bdaa9a-9b22-4f6f-b6ce-f8d29e014d36"
      },
      "execution_count": null,
      "outputs": [
        {
          "output_type": "stream",
          "name": "stdout",
          "text": [
            "File not found.\n"
          ]
        }
      ]
    },
    {
      "cell_type": "markdown",
      "source": [
        "3.  Handling Multiple Exceptions\n",
        "   \n",
        "\n",
        "\n",
        "* You can handle different exceptions separately:\n",
        "\n"
      ],
      "metadata": {
        "id": "iOkrXN4pPjO4"
      }
    },
    {
      "cell_type": "code",
      "source": [
        "try:\n",
        "    pass\n",
        "except ValueError:\n",
        "    print(\"Caught a ValueError.\")\n",
        "except TypeError:\n",
        "    print(\"Caught a TypeError.\")\n"
      ],
      "metadata": {
        "id": "6iouualdQ5qE"
      },
      "execution_count": null,
      "outputs": []
    },
    {
      "cell_type": "markdown",
      "source": [
        "Alternatively, handle multiple exceptions in a single block:"
      ],
      "metadata": {
        "id": "moXwg3kURQwH"
      }
    },
    {
      "cell_type": "code",
      "source": [
        "try:\n",
        "    pass\n",
        "except (ValueError, TypeError) as e:\n",
        "    print(f\"Caught an exception: {e}\")\n"
      ],
      "metadata": {
        "id": "vonOxJkcRR4_"
      },
      "execution_count": null,
      "outputs": []
    },
    {
      "cell_type": "markdown",
      "source": [
        "* Raising Exceptions\n",
        "  You can raise exceptions manually using the raise statement:\n",
        "\n"
      ],
      "metadata": {
        "id": "3mQW2tAsRnJQ"
      }
    },
    {
      "cell_type": "code",
      "source": [
        "try:\n",
        "    raise ValueError(\"Invalid value provided.\")\n",
        "except ValueError as e:\n",
        "    print(f\"Caught an exception: {e}\")\n"
      ],
      "metadata": {
        "colab": {
          "base_uri": "https://localhost:8080/"
        },
        "id": "IOVWNbiDSoze",
        "outputId": "e64a9a19-e340-4ced-e244-bedd4aa791b0"
      },
      "execution_count": null,
      "outputs": [
        {
          "output_type": "stream",
          "name": "stdout",
          "text": [
            "Caught an exception: Invalid value provided.\n"
          ]
        }
      ]
    },
    {
      "cell_type": "markdown",
      "source": [
        "\n",
        "3. What is the purpose of the finally block in exception handling?\n",
        "  - The finally block in Python is used to define cleanup actions that must be executed under all circumstances — whether an exception was raised or not.\n",
        "\n",
        "  Purpose of the finally Block :\n",
        "  1. Ensures that important cleanup code always runs, such as:\n",
        "\n",
        "  2. Closing a file\n",
        "\n",
        "  3. Releasing a network connection\n",
        "\n",
        "  4. Releasing a lock or resource\n",
        "\n",
        "  5. Logging final messages\n",
        "\n",
        "  Syntax :"
      ],
      "metadata": {
        "id": "Nsne1RknS38q"
      }
    },
    {
      "cell_type": "code",
      "source": [
        "try:\n",
        "    # Code that may raise an exception\n",
        "except SomeException:\n",
        "    # Handle the exception\n",
        "finally:\n",
        "    # Always executed, even if an exception occurred"
      ],
      "metadata": {
        "id": "zW3sM0uRUSsO"
      },
      "execution_count": null,
      "outputs": []
    },
    {
      "cell_type": "code",
      "source": [
        "try:\n",
        "    file = open(\"data.txt\", \"r\")\n",
        "    content = file.read()\n",
        "except FileNotFoundError:\n",
        "    print(\"File not found.\")\n",
        "finally:\n",
        "    print(\"Closing file (if it was opened).\")"
      ],
      "metadata": {
        "colab": {
          "base_uri": "https://localhost:8080/"
        },
        "id": "NqLp6ZuVUYbA",
        "outputId": "1b0ac377-6677-4060-c0b9-3caf81f0ce51"
      },
      "execution_count": null,
      "outputs": [
        {
          "output_type": "stream",
          "name": "stdout",
          "text": [
            "File not found.\n",
            "Closing file (if it was opened).\n"
          ]
        }
      ]
    },
    {
      "cell_type": "markdown",
      "source": [
        "4. What is logging in Python?\n",
        "   - Logging in Python is the process of tracking events that happen while a program runs. The built-in logging module provides a flexible system for recording messages, which can help you:\n",
        "\n",
        "   1. Debug code\n",
        "\n",
        "   2. Monitor execution\n",
        "\n",
        "   3. Track errors\n",
        "\n",
        "   4. Save runtime information to files or external systems\n"
      ],
      "metadata": {
        "id": "CvkBxuZqUe1g"
      }
    },
    {
      "cell_type": "markdown",
      "source": [
        "5. What is the significance of the __del__ method in Python?\n",
        "   - The __del__ method in Python is a special method known as a destructor. It is called when an object is about to be destroyed, typically when it is garbage collected.\n",
        "\n",
        "   \n",
        "   * Purpose of __del__\n",
        "\n",
        "    1. To define cleanup behavior when an object is deleted.\n",
        "\n",
        "    2. Useful for releasing external resources like:\n",
        "\n",
        "      a) Files\n",
        "\n",
        "      b) Network connections\n",
        "\n",
        "      c) Database connections\n",
        "\n",
        "      d) Temporary data"
      ],
      "metadata": {
        "id": "U3CtewIaVFXm"
      }
    },
    {
      "cell_type": "code",
      "source": [
        "class FileHandler:\n",
        "    def __init__(self, filename):\n",
        "        self.file = open(filename, 'w')\n",
        "\n",
        "    def write(self, data):\n",
        "        self.file.write(data)\n",
        "\n",
        "    def __del__(self):\n",
        "        print(\"Closing file...\")\n",
        "        self.file.close()\n",
        "\n",
        "handler = FileHandler(\"example.txt\")\n",
        "handler.write(\"Hello!\")\n",
        "del handler  # Triggers __del__\n",
        "\n"
      ],
      "metadata": {
        "colab": {
          "base_uri": "https://localhost:8080/"
        },
        "id": "W6D8aY3dWDSN",
        "outputId": "6aaed2c6-c451-406c-8fbb-2a99c40f8d52"
      },
      "execution_count": null,
      "outputs": [
        {
          "output_type": "stream",
          "name": "stdout",
          "text": [
            "Closing file...\n"
          ]
        }
      ]
    },
    {
      "cell_type": "markdown",
      "source": [
        "6. What is the difference between import and from ... import in Python?\n",
        "   - In Python, both import and from ... import are used to access code from modules, but they work differently in terms of how you access the imported components.\n",
        "\n",
        "   \n",
        "   * Import Statement\n",
        "\n"
      ],
      "metadata": {
        "id": "qwFMy3gUWRtr"
      }
    },
    {
      "cell_type": "code",
      "source": [
        "import math\n"
      ],
      "metadata": {
        "id": "wgVwBy4VW_eO"
      },
      "execution_count": null,
      "outputs": []
    },
    {
      "cell_type": "code",
      "source": [
        "import math\n",
        "print(math.sqrt(16))\n"
      ],
      "metadata": {
        "colab": {
          "base_uri": "https://localhost:8080/"
        },
        "id": "JGjiUe8JXG11",
        "outputId": "c6667738-d2ee-4c70-884e-5456b5313047"
      },
      "execution_count": null,
      "outputs": [
        {
          "output_type": "stream",
          "name": "stdout",
          "text": [
            "4.0\n"
          ]
        }
      ]
    },
    {
      "cell_type": "markdown",
      "source": [
        "\n",
        "* from ... import Statement\n",
        "\n"
      ],
      "metadata": {
        "id": "PA6lvvexXNiP"
      }
    },
    {
      "cell_type": "code",
      "source": [
        "from math import sqrt"
      ],
      "metadata": {
        "id": "jjIvGwCOXSxG"
      },
      "execution_count": null,
      "outputs": []
    },
    {
      "cell_type": "code",
      "source": [
        "from math import sqrt\n",
        "print(sqrt(16))"
      ],
      "metadata": {
        "colab": {
          "base_uri": "https://localhost:8080/"
        },
        "id": "bvUp-HTiXYyf",
        "outputId": "5a41de4c-495a-42db-936f-6446a75070f0"
      },
      "execution_count": null,
      "outputs": [
        {
          "output_type": "stream",
          "name": "stdout",
          "text": [
            "4.0\n"
          ]
        }
      ]
    },
    {
      "cell_type": "markdown",
      "source": [
        "7. How can you handle multiple exceptions in Python?\n",
        "   - you can handle multiple exceptions in a few different ways depending on how you want to respond to them.\n",
        "\n",
        "   1. Handle Different Exceptions Separately\n",
        "\n",
        "    Use multiple except blocks for different exception types:"
      ],
      "metadata": {
        "id": "972YGoTSXfBi"
      }
    },
    {
      "cell_type": "code",
      "source": [
        "try:\n",
        "    x = int(\"abc\")\n",
        "    y = x + \"10\"\n",
        "except ValueError:\n",
        "    print(\"Caught a ValueError.\")\n",
        "except TypeError:\n",
        "    print(\"Caught a TypeError.\")"
      ],
      "metadata": {
        "colab": {
          "base_uri": "https://localhost:8080/"
        },
        "id": "OJq9g4FTXwJi",
        "outputId": "8fc42a88-34bb-4194-d7cf-90d5dca0b8ec"
      },
      "execution_count": null,
      "outputs": [
        {
          "output_type": "stream",
          "name": "stdout",
          "text": [
            "Caught a ValueError.\n"
          ]
        }
      ]
    },
    {
      "cell_type": "markdown",
      "source": [
        "2. Handle Multiple Exceptions with a Single Block\n",
        "   \n",
        "   Use a tuple of exception types in one except block:"
      ],
      "metadata": {
        "id": "jOF38MLkYCil"
      }
    },
    {
      "cell_type": "code",
      "source": [
        "try:\n",
        "    x = int(\"abc\")\n",
        "    y = x + \"10\"\n",
        "except (ValueError, TypeError) as e:\n",
        "    print(f\"Caught an exception: {e}\")"
      ],
      "metadata": {
        "colab": {
          "base_uri": "https://localhost:8080/"
        },
        "id": "oDIRPVjgYTfn",
        "outputId": "9d8638bf-d644-4ce0-c993-3925d839f69b"
      },
      "execution_count": null,
      "outputs": [
        {
          "output_type": "stream",
          "name": "stdout",
          "text": [
            "Caught an exception: invalid literal for int() with base 10: 'abc'\n"
          ]
        }
      ]
    },
    {
      "cell_type": "markdown",
      "source": [
        "3. Catch All Exceptions (Use with Caution)\n",
        "\n",
        "   Catch any exception (not recommended unless truly necessary):"
      ],
      "metadata": {
        "id": "THVVx4G-YZ7E"
      }
    },
    {
      "cell_type": "code",
      "source": [
        "try:\n",
        "    risky_operation()\n",
        "except Exception as e:\n",
        "    print(f\"An unexpected error occurred: {e}\")"
      ],
      "metadata": {
        "colab": {
          "base_uri": "https://localhost:8080/"
        },
        "id": "cl4l1NTaYflz",
        "outputId": "de614d58-4208-41d5-8184-0863bf510488"
      },
      "execution_count": null,
      "outputs": [
        {
          "output_type": "stream",
          "name": "stdout",
          "text": [
            "An unexpected error occurred: name 'risky_operation' is not defined\n"
          ]
        }
      ]
    },
    {
      "cell_type": "markdown",
      "source": [
        "8. What is the purpose of the with statement when handling files in Python?\n",
        "   - The with statement in Python is used to manage resources like files safely and efficiently. When handling files, it ensures that the file is automatically closed, even if an exception occurs while working with it.\n",
        "\n",
        "  \n",
        "  * Purpose of with for Files\n",
        "\n",
        "  1. Opens a file and ensures it is properly closed after use.\n",
        "\n",
        "  2. Makes your code cleaner, more readable, and safer.\n",
        "\n",
        "  3. Avoids forgetting to call file.close().\n",
        "\n",
        "   Example Without with (Less Safe) :"
      ],
      "metadata": {
        "id": "LIemtyG1Ym1n"
      }
    },
    {
      "cell_type": "code",
      "source": [
        "file = open(\"example.txt\", \"r\")\n",
        "try:\n",
        "    content = file.read()\n",
        "    print(content)\n",
        "finally:\n",
        "    file.close()"
      ],
      "metadata": {
        "colab": {
          "base_uri": "https://localhost:8080/"
        },
        "id": "LO7esSmJZe9g",
        "outputId": "b8a6c726-5812-47d3-f36f-9a41b8fb7064"
      },
      "execution_count": null,
      "outputs": [
        {
          "output_type": "stream",
          "name": "stdout",
          "text": [
            "Hello!\n"
          ]
        }
      ]
    },
    {
      "cell_type": "markdown",
      "source": [
        "Example Using with (Recommended) :"
      ],
      "metadata": {
        "id": "jIwGjfeDZn06"
      }
    },
    {
      "cell_type": "code",
      "source": [
        "with open(\"example.txt\", \"r\") as file:\n",
        "    content = file.read()\n",
        "    print(content)"
      ],
      "metadata": {
        "colab": {
          "base_uri": "https://localhost:8080/"
        },
        "id": "Jxq8RVRNZo9q",
        "outputId": "240cd8d3-a065-42eb-a1e8-2b38faabd9ba"
      },
      "execution_count": null,
      "outputs": [
        {
          "output_type": "stream",
          "name": "stdout",
          "text": [
            "Hello!\n"
          ]
        }
      ]
    },
    {
      "cell_type": "markdown",
      "source": [
        "9. What is the difference between multithreading and multiprocessing?\n",
        "   - The difference between multithreading and multiprocessing in Python lies in how they handle concurrent execution and how they use system resources:\n",
        "\n",
        "  \n",
        "* Multithreading\n",
        "\n",
        " 1. Uses multiple threads within the same process.\n",
        "\n",
        " 2. Threads share the same memory space.\n",
        "\n",
        " 3. Best for I/O-bound tasks (e.g., reading files, web requests).\n",
        "\n",
        " 4. Limited by Python's Global Interpreter Lock (GIL) — only one thread executes Python bytecode at a time.\n",
        "\n",
        "  Example use case: downloading multiple web pages, file I/O.\n"
      ],
      "metadata": {
        "id": "8ZSuDZBWZvnx"
      }
    },
    {
      "cell_type": "code",
      "source": [
        "import threading\n",
        "\n",
        "def task():\n",
        "    print(\"Running in thread\")\n",
        "\n",
        "t1 = threading.Thread(target=task)\n",
        "t1.start()"
      ],
      "metadata": {
        "colab": {
          "base_uri": "https://localhost:8080/"
        },
        "id": "RVB5L8xaaZyF",
        "outputId": "ffe99a5f-f59f-4353-e901-68c29ec89baf"
      },
      "execution_count": null,
      "outputs": [
        {
          "output_type": "stream",
          "name": "stdout",
          "text": [
            "Running in thread\n"
          ]
        }
      ]
    },
    {
      "cell_type": "markdown",
      "source": [
        "\n",
        "* Multiprocessing\n",
        "\n",
        " 1. Uses multiple processes, each with its own Python interpreter and memory space.\n",
        "\n",
        " 2. Can fully utilize multiple CPU cores.\n",
        "\n",
        " 3. Best for CPU-bound tasks (e.g., data processing, calculations).\n",
        "\n",
        " 4. No GIL limitation — true parallel execution.\n",
        "\n",
        "  Example use case: image processing, heavy computation.\n",
        "\n",
        "\n"
      ],
      "metadata": {
        "id": "kA-SwOD6afiB"
      }
    },
    {
      "cell_type": "code",
      "source": [
        "import multiprocessing\n",
        "\n",
        "def task():\n",
        "    print(\"Running in process\")\n",
        "\n",
        "p1 = multiprocessing.Process(target=task)\n",
        "p1.start()"
      ],
      "metadata": {
        "colab": {
          "base_uri": "https://localhost:8080/"
        },
        "id": "-a2yFU-_at8D",
        "outputId": "a121ec90-e8e3-4577-98d4-cf6c254f7707"
      },
      "execution_count": null,
      "outputs": [
        {
          "output_type": "stream",
          "name": "stdout",
          "text": [
            "Running in process\n"
          ]
        }
      ]
    },
    {
      "cell_type": "markdown",
      "source": [
        "10. What are the advantages of using logging in a program?\n",
        "    - Here are the advantages of using logging in a program:\n",
        "\n",
        "   1. Tracks program execution — Helps monitor what's happening during runtime.\n",
        "\n",
        "   2. Easier debugging — Logs errors, warnings, and info for quick troubleshooting.\n",
        "\n",
        "   3. No need to remove later — Unlike print(), logs can stay in production code.\n",
        "\n",
        "   4. Configurable levels — You can control output (e.g., DEBUG, INFO, ERROR).\n",
        "\n",
        "   5. Supports file logging — Logs can be saved to files for later review.\n",
        "\n",
        "   6. Better than print() — More flexible, structured, and professional."
      ],
      "metadata": {
        "id": "1NFfExDIazMv"
      }
    },
    {
      "cell_type": "markdown",
      "source": [
        "11. What is memory management in Python?\n",
        "    - Memory management in Python refers to how Python allocates, uses, and frees memory during the execution of a program. It ensures that programs run efficiently without memory leaks.\n",
        "\n",
        "   Key Components of Memory Management in Python:\n",
        "  1. Automatic Memory Allocation\n",
        "  \n",
        "   - Python automatically allocates memory for variables, objects, and data structures when they are created.\n",
        "\n",
        "  2. Garbage Collection\n",
        "\n",
        "  - Unused objects are automatically cleaned up to free memory.\n",
        "\n",
        "  - Python uses reference counting and a cyclic garbage collector to detect and remove unused objects.\n",
        "\n",
        "  3. Private Heap Space\n",
        "\n",
        "  - All Python objects and data are stored in an internal memory area called the heap, managed by the Python memory manager.\n",
        "\n",
        "  4. Reference Counting\n",
        "\n",
        "  - Every object has a reference count; when it drops to zero (no variable is using it), the object is deleted.\n",
        "\n",
        "  5. Memory Pools (via pymalloc)\n",
        "\n",
        "  - For performance, Python maintains memory pools to reuse memory and reduce fragmentation.\n",
        "\n"
      ],
      "metadata": {
        "id": "ID6TlLPpbOH5"
      }
    },
    {
      "cell_type": "markdown",
      "source": [
        "12. What are the basic steps involved in exception handling in Python?  \n",
        "    - The basic steps involved in exception handling in Python are:\n",
        "\n",
        "    1. Try Block\n",
        "\n",
        "     Wrap the code that might raise an exception in a try block.\n",
        "\n",
        "    2. Except Block\n",
        "    \n",
        "     Handle specific exceptions using except.\n",
        "\n",
        "    3. Else Block\n",
        "\n",
        "     Run code only if no exception occurs in the try block.\n",
        "\n",
        "    4. Finally Block (Optional)\n",
        "\n",
        "     This block always executes, whether an exception was raised or not. Used for cleanup (like closing files)."
      ],
      "metadata": {
        "id": "E5y9k_mucJYD"
      }
    },
    {
      "cell_type": "code",
      "source": [
        "try:\n",
        "    result = 10 / 0\n",
        "except ZeroDivisionError:\n",
        "    print(\"Cannot divide by zero.\")\n",
        "else:\n",
        "    print(\"Division successful.\")\n",
        "finally:\n",
        "    print(\"Execution complete.\")"
      ],
      "metadata": {
        "id": "jCbyQweEdCrS"
      },
      "execution_count": null,
      "outputs": []
    },
    {
      "cell_type": "markdown",
      "source": [
        "13. Why is memory management important in Python?\n",
        "  - Memory management is important in Python because it:\n",
        "\n",
        "   1. Prevents memory leaks — Frees unused memory automatically.\n",
        "\n",
        "  2. Improves performance — Efficient use of memory speeds up programs.\n",
        "\n",
        "  3. Supports large applications — Manages complex data without crashing.\n",
        "\n",
        "  4. Simplifies development — Developers don’t need to manage memory manually.\n",
        "\n",
        "  5. Reduces crashes and errors — Avoids issues like out-of-memory errors."
      ],
      "metadata": {
        "id": "VjTdyv2cdzgq"
      }
    },
    {
      "cell_type": "markdown",
      "source": [
        "14.  What is the role of try and except in exception handling?\n",
        "    - The try and except blocks are the core of exception handling in Python. They allow you to gracefully manage errors that may occur during program execution.\n",
        "\n",
        "\n",
        "  * Role of try Block\n",
        "  1. The try block contains code that might raise an exception.\n",
        "\n",
        "  2. Python executes this code and watches for any runtime errors.\n",
        "\n",
        "\n",
        "  \n",
        "\n"
      ],
      "metadata": {
        "id": "CjtpcinmeVuh"
      }
    },
    {
      "cell_type": "code",
      "source": [
        "try:\n",
        "    result = 10 / 0"
      ],
      "metadata": {
        "id": "xBTeMdK7anmE"
      },
      "execution_count": null,
      "outputs": []
    },
    {
      "cell_type": "markdown",
      "source": [
        "\n",
        "\n",
        "* Role of except Block\n",
        "  1. The except block catches and handles the exception raised in the try block.\n",
        "\n",
        "  2. Prevents the program from crashing by providing a controlled response.\n",
        "\n",
        "\n",
        "\n"
      ],
      "metadata": {
        "id": "Z_oftszXauZc"
      }
    },
    {
      "cell_type": "code",
      "source": [
        "except ZeroDivisionError:\n",
        "    print(\"You can't divide by zero!\")"
      ],
      "metadata": {
        "id": "cOrc7EM6bD7S"
      },
      "execution_count": null,
      "outputs": []
    },
    {
      "cell_type": "markdown",
      "source": [
        "  Example"
      ],
      "metadata": {
        "id": "LcTEFjJLbJfs"
      }
    },
    {
      "cell_type": "code",
      "source": [
        "try:\n",
        "    number = int(input(\"Enter a number: \"))\n",
        "    result = 10 / number\n",
        "except ZeroDivisionError:\n",
        "    print(\"Cannot divide by zero.\")\n",
        "except ValueError:\n",
        "    print(\"Invalid input. Please enter a number.\")"
      ],
      "metadata": {
        "id": "pWEw-e3Fba_7"
      },
      "execution_count": null,
      "outputs": []
    },
    {
      "cell_type": "markdown",
      "source": [
        "15. How does Python's garbage collection system work?\n",
        "   - Python’s garbage collection system automatically frees memory by removing objects that are no longer in use.\n",
        "\n",
        "   1.  Reference Counting\n",
        "\n",
        "     a) Each object keeps track of how many references point to it.\n",
        "\n",
        "     b) When the count drops to zero, the object is deleted.\n",
        "\n",
        "  2. Cyclic Garbage Collector\n",
        "\n",
        "     a) Handles reference cycles (e.g., objects referencing each other).\n",
        "\n",
        "     b) Periodically scans and removes groups of unused objects.\n",
        "\n",
        "  3. Automatic & Transparent\n",
        "\n",
        "     a) Runs in the background; no manual intervention needed.\n",
        "\n",
        "     b) Uses the gc module internally (you can use it too if needed)."
      ],
      "metadata": {
        "id": "B3RgGLK0buVR"
      }
    },
    {
      "cell_type": "code",
      "source": [
        "import gc\n",
        "print(gc.get_threshold())  # Shows GC settings"
      ],
      "metadata": {
        "id": "IUseTEPvcfgu"
      },
      "execution_count": null,
      "outputs": []
    },
    {
      "cell_type": "markdown",
      "source": [
        "16. What is the purpose of the else block in exception handling?\n",
        "   - The else block in Python exception handling is used to define code that should run only if no exception occurs in the try block.\n",
        "\n",
        "   \n",
        "   * Purpose of else:\n",
        "\n",
        "    1. Keeps the success path separate from error handling.\n",
        "\n",
        "    2. Makes the code more readable and organized.\n",
        "\n",
        "    3. Helps clarify what happens when everything goes right."
      ],
      "metadata": {
        "id": "_bYNBjdyeIEG"
      }
    },
    {
      "cell_type": "code",
      "source": [
        "try:\n",
        "    num = int(input(\"Enter a number: \"))\n",
        "    result = 10 / num\n",
        "except ZeroDivisionError:\n",
        "    print(\"Cannot divide by zero.\")\n",
        "except ValueError:\n",
        "    print(\"Invalid input.\")\n",
        "else:\n",
        "    print(\"Result is:\", result)"
      ],
      "metadata": {
        "id": "MHfp-N8hfQIx"
      },
      "execution_count": null,
      "outputs": []
    },
    {
      "cell_type": "markdown",
      "source": [
        "17. What are the common logging levels in Python?\n",
        "  - Python provides five common logging levels, each indicating the severity or importance of a message. These levels help categorize and control what gets logged.\n",
        "\n",
        "  Common Logging Levels & purpose :\n",
        "\n",
        "  1. DEBUG : Detailed information for diagnosing problems (used during development)\n",
        "\n",
        "  2. INFO : General information about program execution (e.g., startup, shutdown)\n",
        "\n",
        "  3. WARNING : Something unexpected happened, but the program is still running.\n",
        "\n",
        "  4. ERROR : A serious problem occurred; part of the program may not work.\n",
        "\n",
        "  5. CRITICAL\tA very serious error; the program may be unable to continue.\n",
        "\n",
        "  Example :"
      ],
      "metadata": {
        "id": "_BBgQJoKfqBc"
      }
    },
    {
      "cell_type": "code",
      "source": [
        "import logging\n",
        "\n",
        "logging.basicConfig(level=logging.DEBUG)\n",
        "\n",
        "logging.debug(\"This is a debug message.\")\n",
        "logging.info(\"This is an info message.\")\n",
        "logging.warning(\"This is a warning.\")\n",
        "logging.error(\"This is an error.\")\n",
        "logging.critical(\"This is critical.\")"
      ],
      "metadata": {
        "colab": {
          "base_uri": "https://localhost:8080/"
        },
        "id": "S-LsKJKEgj-n",
        "outputId": "73fb4818-ce26-4ba9-cdfa-ae79a97d6245"
      },
      "execution_count": null,
      "outputs": [
        {
          "output_type": "stream",
          "name": "stderr",
          "text": [
            "WARNING:root:This is a warning.\n",
            "ERROR:root:This is an error.\n",
            "CRITICAL:root:This is critical.\n"
          ]
        }
      ]
    },
    {
      "cell_type": "markdown",
      "source": [
        "18. What is the difference between os.fork() and multiprocessing in Python?\n",
        "   - The key difference between os.fork() and the multiprocessing module in Python lies in how they create processes, platform compatibility, and ease of use:\n",
        "\n",
        "\n",
        "  * os.fork()\n",
        "\n",
        "   1. Low-level system call that creates a new process by duplicating the current one.\n",
        "\n",
        "   2. Returns:\n",
        "\n",
        "   - 0 in the child process\n",
        "\n",
        "   - Child's PID in the parent\n",
        "\n",
        "   3. Available only on Unix/Linux (❌ not on Windows).\n",
        "\n",
        "   4. Requires manual handling of communication, cleanup, etc.\n",
        "\n",
        "Example:"
      ],
      "metadata": {
        "id": "dL70zzvLgoqo"
      }
    },
    {
      "cell_type": "code",
      "source": [
        "import os\n",
        "\n",
        "pid = os.fork()\n",
        "\n",
        "if pid == 0:\n",
        "    print(\"Child process\")\n",
        "else:\n",
        "    print(\"Parent process\")"
      ],
      "metadata": {
        "colab": {
          "base_uri": "https://localhost:8080/"
        },
        "id": "Ksw7mjZNh2pu",
        "outputId": "4ed179c2-6ed3-4205-85ad-cdbd0e710ac5"
      },
      "execution_count": null,
      "outputs": [
        {
          "output_type": "stream",
          "name": "stdout",
          "text": [
            "Parent process\n"
          ]
        }
      ]
    },
    {
      "cell_type": "markdown",
      "source": [
        "\n",
        "\n",
        "* multiprocessing Module\n",
        "\n",
        " - High-level module built on top of os.fork() (Unix) or CreateProcess() (Windows).\n",
        "\n",
        " - Cross-platform (works on Windows, macOS, and Linux).\n",
        "\n",
        "  - Provides:\n",
        "\n",
        "    - Process class\n",
        "\n",
        "    - Queue, Pipe, Pool, and shared memory tools\n",
        "\n",
        "  - Much easier and safer for general use.\n",
        "\n",
        "\n",
        "Example:"
      ],
      "metadata": {
        "id": "gXf1U00eh6hm"
      }
    },
    {
      "cell_type": "code",
      "source": [
        "from multiprocessing import Process\n",
        "\n",
        "def task():\n",
        "    print(\"Running in a separate process\")\n",
        "\n",
        "p = Process(target=task)\n",
        "p.start()\n",
        "p.join()"
      ],
      "metadata": {
        "id": "ZS0x4fhMig7O"
      },
      "execution_count": null,
      "outputs": []
    },
    {
      "cell_type": "markdown",
      "source": [
        "19. What is the importance of closing a file in Python?\n",
        "   - Closing a file in Python is important because it ensures:\n",
        "\n",
        "  1. Data is Saved Properly\n",
        "   - Any changes (writes) are flushed from the buffer to disk.\n",
        "   - Prevents data loss or corruption.\n",
        "\n",
        "   2. Frees System Resources\n",
        "   - Files use system resources (file handles, memory).\n",
        "\n",
        "   - Closing them releases those resources for other processes.\n",
        "\n",
        "   3. Avoids File Locking Issues\n",
        "   - Some systems lock open files.\n",
        "\n",
        "   - Not closing them can cause access problems for other programs.\n",
        "\n",
        "   4. Prevents Errors in Large Programs\n",
        "   - Leaving many files open may exceed OS limits (too many open files).\n",
        "\n",
        "  - Leads to errors and memory leaks.\n"
      ],
      "metadata": {
        "id": "exwZ8j5w8gwT"
      }
    },
    {
      "cell_type": "code",
      "source": [
        "try:\n",
        "    with open(\"data.txt\", \"r\") as f:\n",
        "        content = f.read()\n",
        "        print(content)\n",
        "except FileNotFoundError:\n",
        "    print(\"The file does not exist.\")"
      ],
      "metadata": {
        "colab": {
          "base_uri": "https://localhost:8080/"
        },
        "id": "r-j0Vi9IVWra",
        "outputId": "cd7c0cb2-308d-40e7-ac4a-1d2beec151b9"
      },
      "execution_count": 3,
      "outputs": [
        {
          "output_type": "stream",
          "name": "stdout",
          "text": [
            "The file does not exist.\n"
          ]
        }
      ]
    },
    {
      "cell_type": "markdown",
      "source": [
        "20. What is the difference between file.read() and file.readline() in Python?\n",
        "    - The difference between file.read() and file.readline() in Python is:\n",
        "\n",
        "  \n",
        "  *  file.read()\n",
        "\n",
        "   - Reads the entire file (or a specified number of characters).\n",
        "\n",
        "   - Returns one large string.\n",
        "\n",
        "\n",
        "\n"
      ],
      "metadata": {
        "id": "6nNsDP57Vg37"
      }
    },
    {
      "cell_type": "code",
      "source": [
        "try:\n",
        "    with open(\"data.txt\", \"r\") as f:\n",
        "        content = f.read()\n",
        "        print(content)\n",
        "except FileNotFoundError:\n",
        "    print(\"Error: The file 'data.txt' was not found.\")"
      ],
      "metadata": {
        "colab": {
          "base_uri": "https://localhost:8080/"
        },
        "id": "4tsWzyjRXL75",
        "outputId": "9f2ea5ad-4c31-4e42-f09f-b3438d1b48da"
      },
      "execution_count": 6,
      "outputs": [
        {
          "output_type": "stream",
          "name": "stdout",
          "text": [
            "Error: The file 'data.txt' was not found.\n"
          ]
        }
      ]
    },
    {
      "cell_type": "markdown",
      "source": [
        "\n",
        "* file.readline()\n",
        "\n",
        " - Reads one line at a time (up to \\n).\n",
        "\n",
        " - Returns a single line as a string.\n",
        "\n"
      ],
      "metadata": {
        "id": "BEpKh0L2XrSy"
      }
    },
    {
      "cell_type": "code",
      "source": [
        "try:\n",
        "    with open(\"data.txt\", \"r\") as f:\n",
        "        line = f.readline()\n",
        "        print(line)  # prints only the first line\n",
        "except FileNotFoundError:\n",
        "    print(\"Error: 'data.txt' was not found.\")"
      ],
      "metadata": {
        "colab": {
          "base_uri": "https://localhost:8080/"
        },
        "id": "fsyfG_iRYHlK",
        "outputId": "7d9d0569-408a-4cea-867b-8e0879ac17a6"
      },
      "execution_count": 8,
      "outputs": [
        {
          "output_type": "stream",
          "name": "stdout",
          "text": [
            "Error: 'data.txt' was not found.\n"
          ]
        }
      ]
    },
    {
      "cell_type": "markdown",
      "source": [
        "21. What is the logging module in Python used for?\n",
        "   - The logging module in Python is used to:\n",
        "\n",
        "   Track events and errors during program execution\n",
        "   It helps you record:\n",
        "\n",
        "   a) Debug messages\n",
        "\n",
        "   b) Warnings\n",
        "\n",
        "   c) Errors\n",
        "\n",
        "   d) Critical issues\n",
        "\n",
        "   e) General information logs\n",
        "\n"
      ],
      "metadata": {
        "id": "gsTGiUnbYOQX"
      }
    },
    {
      "cell_type": "code",
      "source": [
        "import logging\n",
        "\n",
        "logging.basicConfig(level=logging.INFO)\n",
        "\n",
        "logging.debug(\"This is a debug message\")\n",
        "logging.info(\"Program started\")\n",
        "logging.warning(\"This is a warning\")\n",
        "logging.error(\"An error occurred\")\n",
        "logging.critical(\"Critical failure\")"
      ],
      "metadata": {
        "colab": {
          "base_uri": "https://localhost:8080/"
        },
        "id": "HT-WrjBvbVk-",
        "outputId": "6f4d109d-abb3-4c0d-cec4-f3ef00fc2fde"
      },
      "execution_count": 9,
      "outputs": [
        {
          "output_type": "stream",
          "name": "stderr",
          "text": [
            "WARNING:root:This is a warning\n",
            "ERROR:root:An error occurred\n",
            "CRITICAL:root:Critical failure\n"
          ]
        }
      ]
    },
    {
      "cell_type": "markdown",
      "source": [
        "22. What is the os module in Python used for in file handling?\n",
        "   - The os module in Python is used in file handling to:\n",
        "\n",
        "     - Check if files or folders exist\n",
        "\n",
        "     - Create, rename, or delete files and directories\n",
        "\n",
        "     - Navigate the file system (change directories, get current path)\n",
        "\n",
        "     - List files in a directory"
      ],
      "metadata": {
        "id": "YARCMN6cbYTo"
      }
    },
    {
      "cell_type": "markdown",
      "source": [
        "23. What are the challenges associated with memory management in Python?\n",
        "   - Challenges with memory management in Python :\n",
        "   1. Reference cycles\n",
        "\n",
        "     - Objects referring to each other can delay garbage collection.\n",
        "\n",
        "   2. Memory leaks\n",
        "\n",
        "     - Caused by lingering references that prevent object cleanup.\n",
        "\n",
        "   3. High memory usage\n",
        "\n",
        "     - Python uses more memory than lower-level languages.\n",
        "\n",
        "   4. Global Interpreter Lock (GIL)\n",
        "\n",
        "     - Limits true multi-threading, affecting memory efficiency in threads.\n",
        "\n",
        "   5. Manual tuning needed\n",
        "\n",
        "     - Sometimes requires profiling and optimization for large-scale apps."
      ],
      "metadata": {
        "id": "1v_xRkLncNbH"
      }
    },
    {
      "cell_type": "markdown",
      "source": [
        "24. How do you raise an exception manually in Python?\n",
        "    - You can raise an exception manually in Python using the raise keyword.\n",
        "\n",
        "    Syntax:"
      ],
      "metadata": {
        "id": "9rYL8P1bdVjJ"
      }
    },
    {
      "cell_type": "code",
      "source": [
        "raise ExceptionType(\"Error message\")"
      ],
      "metadata": {
        "id": "_pwJoIpJe-N-"
      },
      "execution_count": null,
      "outputs": []
    },
    {
      "cell_type": "markdown",
      "source": [
        "   Example:"
      ],
      "metadata": {
        "id": "phelYzf8fE3U"
      }
    },
    {
      "cell_type": "code",
      "source": [
        "raise ValueError(\"Invalid input provided\")"
      ],
      "metadata": {
        "id": "luJryeMufLzH"
      },
      "execution_count": null,
      "outputs": []
    },
    {
      "cell_type": "code",
      "source": [
        "age = -5\n",
        "\n",
        "if age < 0:\n",
        "    raise ValueError(\"Age cannot be negative\")\n"
      ],
      "metadata": {
        "id": "_qIXRBfffkbL"
      },
      "execution_count": null,
      "outputs": []
    },
    {
      "cell_type": "markdown",
      "source": [
        "25. Why is it important to use multithreading in certain applications?\n",
        "    - Importance of Multithreading in Certain Applications:\n",
        "Multithreading is useful when you need to perform multiple tasks concurrently to improve efficiency and responsiveness.\n",
        "\n",
        "    Benefits:\n",
        "\n",
        "    1. Improved Responsiveness\n",
        "\n",
        "     - Keeps applications (like GUIs or servers) responsive while performing background tasks.\n",
        "\n",
        "   2. Better Resource Utilization\n",
        "\n",
        "     - Threads can run while others wait (e.g., for I/O), maximizing CPU use.\n",
        "\n",
        "   3. Concurrent I/O Operations\n",
        "\n",
        "     - Ideal for tasks like downloading files, reading/writing to disk, or handling network requests.\n",
        "\n",
        "   4. Faster Execution (in some cases)\n",
        "\n",
        "     - When tasks are I/O-bound (not CPU-heavy), threads can run in parallel and finish faster.\n",
        "\n"
      ],
      "metadata": {
        "id": "fVn0qwSSfvN6"
      }
    },
    {
      "cell_type": "markdown",
      "source": [
        "# Practical Questions"
      ],
      "metadata": {
        "id": "y7NSh_TMgXvK"
      }
    },
    {
      "cell_type": "markdown",
      "source": [
        "1. How can you open a file for writing in Python and write a string to it?\n",
        "   - To open a file for writing in Python and write a string to it, use the open() function with mode 'w' and the write() method."
      ],
      "metadata": {
        "id": "8ReqnsgVgsmH"
      }
    },
    {
      "cell_type": "code",
      "source": [
        "with open(\"example.txt\", \"w\") as f:\n",
        "    f.write(\"Hello, this is a test.\")"
      ],
      "metadata": {
        "id": "h4825WpRg8uh"
      },
      "execution_count": 16,
      "outputs": []
    },
    {
      "cell_type": "markdown",
      "source": [
        "2.  Write a Python program to read the contents of a file and print each line?\n"
      ],
      "metadata": {
        "id": "R34dyl8AhBFe"
      }
    },
    {
      "cell_type": "code",
      "source": [
        "with open(\"example.txt\", \"r\") as file:\n",
        "    for line in file:\n",
        "        print(line.strip())"
      ],
      "metadata": {
        "colab": {
          "base_uri": "https://localhost:8080/"
        },
        "id": "tLqnzfmwhmL-",
        "outputId": "369a9d21-2ee0-450a-d064-4de6af860f35"
      },
      "execution_count": 18,
      "outputs": [
        {
          "output_type": "stream",
          "name": "stdout",
          "text": [
            "Hello, this is a test.\n"
          ]
        }
      ]
    },
    {
      "cell_type": "markdown",
      "source": [
        "3. How would you handle a case where the file doesn't exist while trying to open it for reading?\n",
        "   - To handle the case where a file doesn't exist when trying to open it for reading, use a try-except block to catch the FileNotFoundError."
      ],
      "metadata": {
        "id": "FhGgwhzbhurX"
      }
    },
    {
      "cell_type": "code",
      "source": [
        "try:\n",
        "    with open(\"example.txt\", \"r\") as file:\n",
        "        for line in file:\n",
        "            print(line.strip())\n",
        "except FileNotFoundError:\n",
        "    print(\"Error: The file does not exist.\")"
      ],
      "metadata": {
        "colab": {
          "base_uri": "https://localhost:8080/"
        },
        "id": "Y7OqIICWh8oa",
        "outputId": "e589a92b-1d46-47f8-b9cf-6d9567131dbd"
      },
      "execution_count": 19,
      "outputs": [
        {
          "output_type": "stream",
          "name": "stdout",
          "text": [
            "Hello, this is a test.\n"
          ]
        }
      ]
    },
    {
      "cell_type": "markdown",
      "source": [
        "4. Write a Python script that reads from one file and writes its content to another file?\n",
        "  "
      ],
      "metadata": {
        "id": "0lCmOvr5iKr5"
      }
    },
    {
      "cell_type": "code",
      "source": [
        "try:\n",
        "    with open(\"source.txt\", \"r\") as src_file:\n",
        "        content = src_file.read()\n",
        "\n",
        "    with open(\"destination.txt\", \"w\") as dest_file:\n",
        "        dest_file.write(content)\n",
        "\n",
        "    print(\"Content copied successfully.\")\n",
        "except FileNotFoundError:\n",
        "    print(\"Error: Source file not found.\")\n",
        "except Exception as e:\n",
        "    print(f\"An error occurred: {e}\")"
      ],
      "metadata": {
        "colab": {
          "base_uri": "https://localhost:8080/"
        },
        "id": "O2DNx5HliVcY",
        "outputId": "cadbe789-7ceb-44a6-a70d-b7d29b0df28d"
      },
      "execution_count": 20,
      "outputs": [
        {
          "output_type": "stream",
          "name": "stdout",
          "text": [
            "Error: Source file not found.\n"
          ]
        }
      ]
    },
    {
      "cell_type": "markdown",
      "source": [
        "5. How would you catch and handle division by zero error in Python?\n",
        "   - You can catch and handle a division by zero error using a try-except block that catches the ZeroDivisionError."
      ],
      "metadata": {
        "id": "HiFbdG7ziZkf"
      }
    },
    {
      "cell_type": "code",
      "source": [
        "try:\n",
        "    result = 10 / 0\n",
        "except ZeroDivisionError:\n",
        "    print(\"Error: Cannot divide by zero.\")\n",
        "else:\n",
        "    print(\"Result is\", result)"
      ],
      "metadata": {
        "colab": {
          "base_uri": "https://localhost:8080/"
        },
        "id": "cW_XNm95in4i",
        "outputId": "f3c65d19-aca3-4250-bac7-dd60523095e8"
      },
      "execution_count": 21,
      "outputs": [
        {
          "output_type": "stream",
          "name": "stdout",
          "text": [
            "Error: Cannot divide by zero.\n"
          ]
        }
      ]
    },
    {
      "cell_type": "markdown",
      "source": [
        "6.  Write a Python program that logs an error message to a log file when a division by zero exception occurs?\n"
      ],
      "metadata": {
        "id": "EVX4paZWi2g3"
      }
    },
    {
      "cell_type": "code",
      "source": [
        "import logging\n",
        "\n",
        "# Configure logging to write to a file with a specific format\n",
        "logging.basicConfig(filename='error.log',\n",
        "                    level=logging.ERROR,\n",
        "                    format='%(asctime)s - %(levelname)s - %(message)s')\n",
        "\n",
        "try:\n",
        "    result = 10 / 0\n",
        "except ZeroDivisionError as e:\n",
        "    logging.error(\"Division by zero error occurred: %s\", e)\n",
        "    print(\"An error occurred. Check error.log for details.\")\n",
        "else:\n",
        "    print(\"Result:\", result)"
      ],
      "metadata": {
        "colab": {
          "base_uri": "https://localhost:8080/"
        },
        "id": "l0ZoovV2jKVP",
        "outputId": "e2dbace4-24af-41f2-bc5e-bb8687df8f4d"
      },
      "execution_count": 22,
      "outputs": [
        {
          "output_type": "stream",
          "name": "stderr",
          "text": [
            "ERROR:root:Division by zero error occurred: division by zero\n"
          ]
        },
        {
          "output_type": "stream",
          "name": "stdout",
          "text": [
            "An error occurred. Check error.log for details.\n"
          ]
        }
      ]
    },
    {
      "cell_type": "markdown",
      "source": [
        "7. How do you log information at different levels (INFO, ERROR, WARNING) in Python using the logging module?\n",
        "   - You can log messages at different levels using the logging module’s functions:"
      ],
      "metadata": {
        "id": "a2U-LlhFjPfX"
      }
    },
    {
      "cell_type": "code",
      "source": [
        "import logging\n",
        "\n",
        "logging.basicConfig(level=logging.DEBUG, format='%(levelname)s: %(message)s')\n",
        "\n",
        "logging.debug(\"This is a debug message\")\n",
        "logging.info(\"This is an info message\")\n",
        "logging.warning(\"This is a warning message\")\n",
        "logging.error(\"This is an error message\")\n",
        "logging.critical(\"This is critical\")"
      ],
      "metadata": {
        "colab": {
          "base_uri": "https://localhost:8080/"
        },
        "id": "LSA5_JUtjdLa",
        "outputId": "a5b7275d-9afe-4171-9f2f-9fda241891bd"
      },
      "execution_count": 24,
      "outputs": [
        {
          "output_type": "stream",
          "name": "stderr",
          "text": [
            "WARNING:root:This is a warning message\n",
            "ERROR:root:This is an error message\n",
            "CRITICAL:root:This is critical\n"
          ]
        }
      ]
    },
    {
      "cell_type": "markdown",
      "source": [
        "8. Write a program to handle a file opening error using exception handling?\n"
      ],
      "metadata": {
        "id": "aCzkfEeYjrQq"
      }
    },
    {
      "cell_type": "code",
      "source": [
        "try:\n",
        "    with open(\"myfile.txt\", \"r\") as file:\n",
        "        content = file.read()\n",
        "        print(content)\n",
        "except FileNotFoundError:\n",
        "    print(\"Error: The file 'myfile.txt' was not found.\")\n",
        "except IOError:\n",
        "    print(\"Error: An I/O error occurred while handling the file.\")"
      ],
      "metadata": {
        "colab": {
          "base_uri": "https://localhost:8080/"
        },
        "id": "0Imz-owEj8ch",
        "outputId": "eaf0beae-f783-44b6-a729-cdeb37f90e38"
      },
      "execution_count": 25,
      "outputs": [
        {
          "output_type": "stream",
          "name": "stdout",
          "text": [
            "Error: The file 'myfile.txt' was not found.\n"
          ]
        }
      ]
    },
    {
      "cell_type": "markdown",
      "source": [
        "9. How can you read a file line by line and store its content in a list in Python?\n"
      ],
      "metadata": {
        "id": "6YZ04OGfkBQo"
      }
    },
    {
      "cell_type": "code",
      "source": [
        "try:\n",
        "    lines = []\n",
        "    with open(\"filename.txt\", \"r\") as file:\n",
        "        for line in file:\n",
        "            lines.append(line.strip())\n",
        "    print(lines)\n",
        "except Exception as e:\n",
        "    print(\"Error:\", e)"
      ],
      "metadata": {
        "colab": {
          "base_uri": "https://localhost:8080/"
        },
        "id": "vXlFc8INkc_B",
        "outputId": "c9928860-2907-4d04-b4ad-91c0b586c681"
      },
      "execution_count": 27,
      "outputs": [
        {
          "output_type": "stream",
          "name": "stdout",
          "text": [
            "Error: [Errno 2] No such file or directory: 'filename.txt'\n"
          ]
        }
      ]
    },
    {
      "cell_type": "markdown",
      "source": [
        "10.  How can you append data to an existing file in Python?\n",
        "    - To append data to an existing file in Python, open the file in append mode 'a' and then write to it."
      ],
      "metadata": {
        "id": "DY1c_6S9kezF"
      }
    },
    {
      "cell_type": "code",
      "source": [
        "with open(\"example.txt\", \"a\") as file:\n",
        "    file.write(\"This text will be added to the end of the file.\\n\")"
      ],
      "metadata": {
        "id": "HLHlIcEOk_Nx"
      },
      "execution_count": 28,
      "outputs": []
    },
    {
      "cell_type": "markdown",
      "source": [
        "11. Write a Python program that uses a try-except block to handle an error when attempting to access a\n",
        "dictionary key that doesn't exist.\n",
        "\n"
      ],
      "metadata": {
        "id": "0N372vwilD2t"
      }
    },
    {
      "cell_type": "code",
      "source": [
        "my_dict = {\"name\": \"Alice\", \"age\": 25}\n",
        "\n",
        "try:\n",
        "    value = my_dict[\"address\"]\n",
        "    print(\"Address:\", value)\n",
        "except KeyError:\n",
        "    print(\"Error: The key 'address' does not exist in the dictionary.\")"
      ],
      "metadata": {
        "colab": {
          "base_uri": "https://localhost:8080/"
        },
        "id": "UPnMtUK7lxja",
        "outputId": "0fb025b5-02ad-47c1-f814-d125eab65131"
      },
      "execution_count": 30,
      "outputs": [
        {
          "output_type": "stream",
          "name": "stdout",
          "text": [
            "Error: The key 'address' does not exist in the dictionary.\n"
          ]
        }
      ]
    },
    {
      "cell_type": "markdown",
      "source": [
        "12. Write a program that demonstrates using multiple except blocks to handle different types of exceptions.\n"
      ],
      "metadata": {
        "id": "U8orVNy6l4E7"
      }
    },
    {
      "cell_type": "code",
      "source": [
        "try:\n",
        "    num1 = int(input(\"Enter first number: \"))\n",
        "    num2 = int(input(\"Enter second number: \"))\n",
        "    result = num1 / num2\n",
        "    print(\"Result:\", result)\n",
        "except ValueError:\n",
        "    print(\"Error: Please enter valid integers.\")\n",
        "except ZeroDivisionError:\n",
        "    print(\"Error: Cannot divide by zero.\")\n",
        "except Exception as e:\n",
        "    print(f\"An unexpected error occurred: {e}\")"
      ],
      "metadata": {
        "colab": {
          "base_uri": "https://localhost:8080/"
        },
        "id": "KusxtjqOmJaI",
        "outputId": "0e6ff546-98fe-4849-9626-ef387324f7e6"
      },
      "execution_count": 32,
      "outputs": [
        {
          "output_type": "stream",
          "name": "stdout",
          "text": [
            "Enter first number: 7\n",
            "Enter second number: 14\n",
            "Result: 0.5\n"
          ]
        }
      ]
    },
    {
      "cell_type": "markdown",
      "source": [
        "13. How would you check if a file exists before attempting to read it in Python?\n",
        "   - You can check if a file exists before reading it using the os.path.exists() function from the os module."
      ],
      "metadata": {
        "id": "glmEWNjJmj0n"
      }
    },
    {
      "cell_type": "code",
      "source": [
        "import os\n",
        "\n",
        "filename = \"example.txt\"\n",
        "\n",
        "if os.path.exists(filename):\n",
        "    with open(filename, \"r\") as file:\n",
        "        content = file.read()\n",
        "        print(content)\n",
        "else:\n",
        "    print(f\"File '{filename}' does not exist.\")"
      ],
      "metadata": {
        "colab": {
          "base_uri": "https://localhost:8080/"
        },
        "id": "nPVX4fEpm02A",
        "outputId": "517c7453-00db-4c2c-e9ab-d0b130fab880"
      },
      "execution_count": 33,
      "outputs": [
        {
          "output_type": "stream",
          "name": "stdout",
          "text": [
            "Hello, this is a test.This text will be added to the end of the file.\n",
            "\n"
          ]
        }
      ]
    },
    {
      "cell_type": "markdown",
      "source": [
        "14. Write a program that uses the logging module to log both informational and error messages.\n"
      ],
      "metadata": {
        "id": "XUPvov_4m5M4"
      }
    },
    {
      "cell_type": "code",
      "source": [
        "import logging\n",
        "\n",
        "logging.basicConfig(filename='app.log',\n",
        "                    level=logging.INFO,\n",
        "                    format='%(asctime)s - %(levelname)s - %(message)s')\n",
        "\n",
        "logging.info(\"This is an informational message.\")\n",
        "\n",
        "try:\n",
        "    x = 10 / 0\n",
        "except ZeroDivisionError as e:\n",
        "    logging.error(f\"An error occurred: {e}\")"
      ],
      "metadata": {
        "colab": {
          "base_uri": "https://localhost:8080/"
        },
        "id": "nforTlOdnZCA",
        "outputId": "4669977b-1a06-43ea-a223-a9964e9b66c7"
      },
      "execution_count": 35,
      "outputs": [
        {
          "output_type": "stream",
          "name": "stderr",
          "text": [
            "ERROR:root:An error occurred: division by zero\n"
          ]
        }
      ]
    },
    {
      "cell_type": "markdown",
      "source": [
        "15. Write a Python program that prints the content of a file and handles the case when the file is empty.\n"
      ],
      "metadata": {
        "id": "bxSCljTwne7o"
      }
    },
    {
      "cell_type": "code",
      "source": [
        "filename = \"example.txt\"\n",
        "\n",
        "try:\n",
        "    with open(filename, \"r\") as file:\n",
        "        content = file.read()\n",
        "        if content:\n",
        "            print(content)\n",
        "        else:\n",
        "            print(\"The file is empty.\")\n",
        "except FileNotFoundError:\n",
        "    print(f\"Error: The file '{filename}' does not exist.\")"
      ],
      "metadata": {
        "colab": {
          "base_uri": "https://localhost:8080/"
        },
        "id": "ZBYxg9ZmnnCK",
        "outputId": "0fad7e69-fc0d-4fbc-b2f5-159aac6c7f50"
      },
      "execution_count": 36,
      "outputs": [
        {
          "output_type": "stream",
          "name": "stdout",
          "text": [
            "Hello, this is a test.This text will be added to the end of the file.\n",
            "\n"
          ]
        }
      ]
    },
    {
      "cell_type": "markdown",
      "source": [
        "16.  Demonstrate how to use memory profiling to check the memory usage of a small program.\n",
        "   - To profile memory usage of a small Python program, you can use the memory_profiler module.\n",
        "\n",
        "    Step 1: Install memory_profiler\n",
        "\n",
        "     - Run this in your terminal:"
      ],
      "metadata": {
        "id": "sNSTXtwFn4xX"
      }
    },
    {
      "cell_type": "code",
      "source": [
        "pip install memory-profiler"
      ],
      "metadata": {
        "colab": {
          "base_uri": "https://localhost:8080/"
        },
        "id": "LuEpRrBXon32",
        "outputId": "ab2748f7-8ce9-479e-c7fa-9bbc6ec3b0a1"
      },
      "execution_count": 37,
      "outputs": [
        {
          "output_type": "stream",
          "name": "stdout",
          "text": [
            "Collecting memory-profiler\n",
            "  Downloading memory_profiler-0.61.0-py3-none-any.whl.metadata (20 kB)\n",
            "Requirement already satisfied: psutil in /usr/local/lib/python3.11/dist-packages (from memory-profiler) (5.9.5)\n",
            "Downloading memory_profiler-0.61.0-py3-none-any.whl (31 kB)\n",
            "Installing collected packages: memory-profiler\n",
            "Successfully installed memory-profiler-0.61.0\n"
          ]
        }
      ]
    },
    {
      "cell_type": "markdown",
      "source": [
        "  Step 2: Write a sample program using @profile\n"
      ],
      "metadata": {
        "id": "eUFxMrV1ourh"
      }
    },
    {
      "cell_type": "code",
      "source": [
        "# save this as memory_test.py\n",
        "from memory_profiler import profile\n",
        "\n",
        "@profile\n",
        "def create_large_list():\n",
        "    data = [x ** 2 for x in range(100000)]\n",
        "    return data\n",
        "\n",
        "if __name__ == \"__main__\":\n",
        "    create_large_list()\n"
      ],
      "metadata": {
        "colab": {
          "base_uri": "https://localhost:8080/"
        },
        "id": "f2SEoQ8_ozF3",
        "outputId": "31b4806a-29c7-469c-d731-5bf918e7e9b0"
      },
      "execution_count": 38,
      "outputs": [
        {
          "output_type": "stream",
          "name": "stderr",
          "text": [
            "\n",
            "PYDEV DEBUGGER WARNING:\n",
            "sys.settrace() should not be used when the debugger is being used.\n",
            "This may cause the debugger to stop working correctly.\n",
            "If this is needed, please check: \n",
            "http://pydev.blogspot.com/2007/06/why-cant-pydev-debugger-work-with.html\n",
            "to see how to restore the debug tracing back correctly.\n",
            "Call Location:\n",
            "  File \"/usr/local/lib/python3.11/dist-packages/memory_profiler.py\", line 847, in enable\n",
            "    sys.settrace(self.trace_memory_usage)\n",
            "\n",
            "\n",
            "PYDEV DEBUGGER WARNING:\n",
            "sys.settrace() should not be used when the debugger is being used.\n",
            "This may cause the debugger to stop working correctly.\n",
            "If this is needed, please check: \n",
            "http://pydev.blogspot.com/2007/06/why-cant-pydev-debugger-work-with.html\n",
            "to see how to restore the debug tracing back correctly.\n",
            "Call Location:\n",
            "  File \"/usr/local/lib/python3.11/dist-packages/memory_profiler.py\", line 850, in disable\n",
            "    sys.settrace(self._original_trace_function)\n",
            "\n"
          ]
        },
        {
          "output_type": "stream",
          "name": "stdout",
          "text": [
            "ERROR: Could not find file <ipython-input-38-8f4dcf8458c1>\n",
            "NOTE: %mprun can only be used on functions defined in physical files, and not in the IPython environment.\n"
          ]
        }
      ]
    },
    {
      "cell_type": "markdown",
      "source": [
        " Step 3: Run with memory profiling\n",
        "\n",
        "  Use this command in your terminal:"
      ],
      "metadata": {
        "id": "uNV5fQRbo8Uq"
      }
    },
    {
      "cell_type": "code",
      "source": [
        "python -m memory_profiler memory_test.py"
      ],
      "metadata": {
        "id": "dm2sKVqKpI_l"
      },
      "execution_count": null,
      "outputs": []
    },
    {
      "cell_type": "markdown",
      "source": [
        "17. Write a Python program to create and write a list of numbers to a file, one number per line.\n"
      ],
      "metadata": {
        "id": "lr6rah7ZpO_G"
      }
    },
    {
      "cell_type": "code",
      "source": [
        "numbers = [1, 2, 3, 4, 5, 6, 7, 8, 9, 10]\n",
        "\n",
        "with open(\"numbers.txt\", \"w\") as file:\n",
        "    for number in numbers:\n",
        "        file.write(f\"{number}\\n\")\n",
        "\n",
        "print(\"Numbers written to 'numbers.txt' successfully.\")"
      ],
      "metadata": {
        "colab": {
          "base_uri": "https://localhost:8080/"
        },
        "id": "BQxcOSe6pYuj",
        "outputId": "3dfb5d48-9613-433e-decc-2a3b2dee6e1b"
      },
      "execution_count": 41,
      "outputs": [
        {
          "output_type": "stream",
          "name": "stdout",
          "text": [
            "Numbers written to 'numbers.txt' successfully.\n"
          ]
        }
      ]
    },
    {
      "cell_type": "markdown",
      "source": [
        "18. How would you implement a basic logging setup that logs to a file with rotation after 1MB?\n",
        "   - To implement a basic logging setup that logs to a file with rotation after 1MB, you can use Python’s built-in logging.handlers.RotatingFileHandler."
      ],
      "metadata": {
        "id": "lvGHuWmOpfJK"
      }
    },
    {
      "cell_type": "code",
      "source": [
        "import logging\n",
        "from logging.handlers import RotatingFileHandler\n",
        "\n",
        "handler = RotatingFileHandler(\"app.log\", maxBytes=1_000_000, backupCount=3)\n",
        "\n",
        "logging.basicConfig(\n",
        "    level=logging.INFO,\n",
        "    format=\"%(asctime)s - %(levelname)s - %(message)s\",\n",
        "    handlers=[handler]\n",
        ")\n",
        "\n",
        "for i in range(10000):\n",
        "    logging.info(f\"This is log message number {i}\")"
      ],
      "metadata": {
        "id": "47a8W_-Up0zr"
      },
      "execution_count": 43,
      "outputs": []
    },
    {
      "cell_type": "markdown",
      "source": [
        "19. Write a program that handles both IndexError and KeyError using a try-except block.\n",
        "   - Python program that demonstrates handling both IndexError and KeyError using a try-except block:"
      ],
      "metadata": {
        "id": "-PZHNUjLp9DB"
      }
    },
    {
      "cell_type": "code",
      "source": [
        "my_list = [10, 20, 30]\n",
        "my_dict = {\"name\": \"REEMS\", \"age\": 30}\n",
        "\n",
        "try:\n",
        "    print(\"List item:\", my_list[5])\n",
        "\n",
        "    print(\"Address:\", my_dict[\"address\"])\n",
        "\n",
        "except IndexError:\n",
        "    print(\"Error: List index out of range.\")\n",
        "\n",
        "except KeyError:\n",
        "    print(\"Error: Key not found in dictionary.\")"
      ],
      "metadata": {
        "colab": {
          "base_uri": "https://localhost:8080/"
        },
        "id": "bBieMEgdqkus",
        "outputId": "655594da-edeb-4526-a925-e9ac7cff4c3f"
      },
      "execution_count": 46,
      "outputs": [
        {
          "output_type": "stream",
          "name": "stdout",
          "text": [
            "Error: List index out of range.\n"
          ]
        }
      ]
    },
    {
      "cell_type": "markdown",
      "source": [
        "20. How would you open a file and read its contents using a context manager in Python?\n",
        "  - To open a file and read its contents using a context manager in Python, use the with statement."
      ],
      "metadata": {
        "id": "MZ_dwMO2q4Jb"
      }
    },
    {
      "cell_type": "code",
      "source": [
        "with open(\"example.txt\", \"r\") as file:\n",
        "    content = file.read()\n",
        "    print(content)"
      ],
      "metadata": {
        "colab": {
          "base_uri": "https://localhost:8080/"
        },
        "id": "eSJnaZUqspti",
        "outputId": "82ae7778-12f3-458f-d12b-8b7e7671aee8"
      },
      "execution_count": 48,
      "outputs": [
        {
          "output_type": "stream",
          "name": "stdout",
          "text": [
            "Hello, this is a test.This text will be added to the end of the file.\n",
            "\n"
          ]
        }
      ]
    },
    {
      "cell_type": "markdown",
      "source": [
        "21. Write a Python program that reads a file and prints the number of occurrences of a specific word."
      ],
      "metadata": {
        "id": "G-2eYg-rsuev"
      }
    },
    {
      "cell_type": "code",
      "source": [
        "filename = \"example.txt\"\n",
        "search_word = \"python\"\n",
        "\n",
        "try:\n",
        "    with open(filename, \"r\") as file:\n",
        "        content = file.read().lower()\n",
        "        word_count = content.count(search_word.lower())\n",
        "        print(f\"The word '{search_word}' occurred {word_count} times in the file.\")\n",
        "except FileNotFoundError:\n",
        "    print(f\"Error: The file '{filename}' was not found.\")"
      ],
      "metadata": {
        "colab": {
          "base_uri": "https://localhost:8080/"
        },
        "id": "lGa4QxIzs-uK",
        "outputId": "1d128cd7-4d87-4cef-b417-faaa6bc43ee8"
      },
      "execution_count": 50,
      "outputs": [
        {
          "output_type": "stream",
          "name": "stdout",
          "text": [
            "The word 'python' occurred 0 times in the file.\n"
          ]
        }
      ]
    },
    {
      "cell_type": "markdown",
      "source": [
        "22.  How can you check if a file is empty before attempting to read its contents?\n",
        "   - You can check if a file is empty in Python by checking its size using the os module before reading:"
      ],
      "metadata": {
        "id": "r1AptQ_EtE4D"
      }
    },
    {
      "cell_type": "code",
      "source": [
        "import os\n",
        "\n",
        "filename = \"example.txt\"\n",
        "\n",
        "if os.path.exists(filename) and os.path.getsize(filename) > 0:\n",
        "    with open(filename, \"r\") as file:\n",
        "        content = file.read()\n",
        "        print(\"File content:\")\n",
        "        print(content)\n",
        "else:\n",
        "    print(\"The file is either empty or does not exist.\")"
      ],
      "metadata": {
        "colab": {
          "base_uri": "https://localhost:8080/"
        },
        "id": "_G3hWWD5tp4E",
        "outputId": "cfa51835-ec32-4e1a-bec2-6df2c91b99cc"
      },
      "execution_count": 51,
      "outputs": [
        {
          "output_type": "stream",
          "name": "stdout",
          "text": [
            "File content:\n",
            "Hello, this is a test.This text will be added to the end of the file.\n",
            "\n"
          ]
        }
      ]
    },
    {
      "cell_type": "markdown",
      "source": [
        "23. Write a Python program that writes to a log file when an error occurs during file handling."
      ],
      "metadata": {
        "id": "TUMOQ7Kctyxc"
      }
    },
    {
      "cell_type": "code",
      "source": [
        "import logging\n",
        "\n",
        "logging.basicConfig(\n",
        "    filename='file_errors.log',\n",
        "    level=logging.ERROR,\n",
        "    format='%(asctime)s - %(levelname)s - %(message)s'\n",
        ")\n",
        "\n",
        "filename = \"nonexistent_file.txt\"\n",
        "\n",
        "try:\n",
        "    with open(filename, \"r\") as file:\n",
        "        content = file.read()\n",
        "        print(content)\n",
        "except FileNotFoundError as e:\n",
        "    logging.error(f\"File not found: {e}\")\n",
        "    print(\"An error occurred. Please check the log file for details.\")"
      ],
      "metadata": {
        "colab": {
          "base_uri": "https://localhost:8080/"
        },
        "id": "3ej2zuj7t-7Y",
        "outputId": "1cbacf53-b60a-49fb-d4ab-c2adf1711cd0"
      },
      "execution_count": 53,
      "outputs": [
        {
          "output_type": "stream",
          "name": "stderr",
          "text": [
            "ERROR:root:File not found: [Errno 2] No such file or directory: 'nonexistent_file.txt'\n"
          ]
        },
        {
          "output_type": "stream",
          "name": "stdout",
          "text": [
            "An error occurred. Please check the log file for details.\n"
          ]
        }
      ]
    }
  ]
}